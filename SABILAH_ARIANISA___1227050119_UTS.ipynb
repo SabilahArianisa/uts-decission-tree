{
  "cells": [
    {
      "cell_type": "code",
      "source": [
        "\n",
        "import pandas as pd\n",
        "from sklearn.model_selection import train_test_split\n",
        "from sklearn.tree import DecisionTreeClassifier\n",
        "from sklearn.metrics import classification_report, confusion_matrix, accuracy_score\n",
        "\n",
        "\n",
        "file_id = \"1ga06-j4QSrwRlfzmKVmbeGHWVjbQaAVB\"\n",
        "url = f\"https://drive.google.com/uc?id={file_id}\"\n",
        "data = pd.read_csv(url)\n",
        "\n",
        "\n",
        "print(\"Contoh Data:\")\n",
        "print(data.head())\n",
        "\n",
        "\n",
        "data_encoded = pd.get_dummies(data, drop_first=True)\n",
        "\n",
        "\n",
        "target_column = None\n",
        "for col in data_encoded.columns:\n",
        "    if 'BUY' in col.upper() or 'COMPUTER' in col.upper():\n",
        "        target_column = col\n",
        "        break\n",
        "\n",
        "if not target_column:\n",
        "    raise ValueError(\"Kolom target tidak ditemukan otomatis.\")\n",
        "\n",
        "print(f\"\\nKolom target: {target_column}\")\n",
        "\n",
        "\n",
        "X = data_encoded.drop(columns=[target_column])\n",
        "y = data_encoded[target_column]\n",
        "\n",
        "\n",
        "X_train, X_test, y_train, y_test = train_test_split(X, y, test_size=0.2, random_state=42)\n",
        "\n",
        "\n",
        "model = DecisionTreeClassifier(random_state=42)\n",
        "model.fit(X_train, y_train)\n",
        "\n",
        "\n",
        "y_pred = model.predict(X_test)\n",
        "print(\"\\nConfusion Matrix:\\n\", confusion_matrix(y_test, y_pred))\n",
        "print(\"\\nClassification Report:\\n\", classification_report(y_test, y_pred))\n",
        "print(\"Akurasi: {:.2f}%\".format(accuracy_score(y_test, y_pred) * 100))\n"
      ],
      "metadata": {
        "id": "qvM572lb5o65",
        "colab": {
          "base_uri": "https://localhost:8080/"
        },
        "outputId": "26d72e94-a676-4b74-b849-63c2e5b754cf"
      },
      "execution_count": 1,
      "outputs": [
        {
          "output_type": "stream",
          "name": "stdout",
          "text": [
            "Contoh Data:\n",
            "          Age  Income Student Credit_Rating  Buys_Computer\n",
            "0         Tua  Tinggi      Ya         Buruk              0\n",
            "1  Paruh Baya  Tinggi      Ya          Baik              1\n",
            "2  Paruh Baya  Rendah   Tidak         Buruk              1\n",
            "3         Tua  Rendah   Tidak          Baik              1\n",
            "4         Tua  Rendah      Ya          Baik              1\n",
            "\n",
            "Kolom target: Buys_Computer\n",
            "\n",
            "Confusion Matrix:\n",
            " [[ 57  14]\n",
            " [ 25 104]]\n",
            "\n",
            "Classification Report:\n",
            "               precision    recall  f1-score   support\n",
            "\n",
            "           0       0.70      0.80      0.75        71\n",
            "           1       0.88      0.81      0.84       129\n",
            "\n",
            "    accuracy                           0.81       200\n",
            "   macro avg       0.79      0.80      0.79       200\n",
            "weighted avg       0.82      0.81      0.81       200\n",
            "\n",
            "Akurasi: 80.50%\n"
          ]
        }
      ]
    }
  ],
  "metadata": {
    "colab": {
      "provenance": []
    },
    "kernelspec": {
      "display_name": "Python 3",
      "name": "python3"
    }
  },
  "nbformat": 4,
  "nbformat_minor": 0
}